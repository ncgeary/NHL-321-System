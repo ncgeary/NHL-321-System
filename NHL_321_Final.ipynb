{
 "cells": [
  {
   "cell_type": "code",
   "execution_count": 1,
   "metadata": {},
   "outputs": [],
   "source": [
    "import json\n",
    "from bs4 import BeautifulSoup\n",
    "from urllib.request import urlopen\n",
    "from html.parser import HTMLParser\n",
    "import numpy as np\n",
    "import pandas as pd"
   ]
  },
  {
   "cell_type": "code",
   "execution_count": 5,
   "metadata": {},
   "outputs": [],
   "source": [
    "url = 'https://www.hockey-reference.com/leagues/NHL_2022_standings.html'\n",
    "soup = BeautifulSoup(urlopen(url), \"html.parser\")"
   ]
  },
  {
   "cell_type": "code",
   "execution_count": 6,
   "metadata": {},
   "outputs": [],
   "source": [
    "# Find the proper table using the caption tag\n",
    "for caption in soup.find_all('caption'):\n",
    "    if caption.get_text() == 'Expanded Standings Table':\n",
    "        table = caption.find_parent('table', {\"id\":\"standings\"})"
   ]
  },
  {
   "cell_type": "code",
   "execution_count": 7,
   "metadata": {},
   "outputs": [
    {
     "ename": "AttributeError",
     "evalue": "'NoneType' object has no attribute 'find_all'",
     "output_type": "error",
     "traceback": [
      "\u001b[0;31m---------------------------------------------------------------------------\u001b[0m",
      "\u001b[0;31mAttributeError\u001b[0m                            Traceback (most recent call last)",
      "Cell \u001b[0;32mIn[7], line 4\u001b[0m\n\u001b[1;32m      2\u001b[0m all_teams \u001b[39m=\u001b[39m []\n\u001b[1;32m      3\u001b[0m \u001b[39m#Grab all the data\u001b[39;00m\n\u001b[0;32m----> 4\u001b[0m \u001b[39mfor\u001b[39;00m row \u001b[39min\u001b[39;00m table\u001b[39m.\u001b[39;49mfind_all(\u001b[39m'\u001b[39m\u001b[39mtr\u001b[39m\u001b[39m'\u001b[39m):\n\u001b[1;32m      5\u001b[0m     \u001b[39mfor\u001b[39;00m cell \u001b[39min\u001b[39;00m row\u001b[39m.\u001b[39mfind_all(\u001b[39m'\u001b[39m\u001b[39mtd\u001b[39m\u001b[39m'\u001b[39m):\n\u001b[1;32m      6\u001b[0m         all_teams\u001b[39m.\u001b[39mappend(cell\u001b[39m.\u001b[39mtext)\n",
      "\u001b[0;31mAttributeError\u001b[0m: 'NoneType' object has no attribute 'find_all'"
     ]
    }
   ],
   "source": [
    "#Table data into one large array\n",
    "all_teams = []\n",
    "#Grab all the data\n",
    "for row in table.find_all('tr'):\n",
    "    for cell in row.find_all('td'):\n",
    "        all_teams.append(cell.text)"
   ]
  },
  {
   "cell_type": "code",
   "execution_count": 8,
   "metadata": {},
   "outputs": [],
   "source": [
    "#divide the all_teams data into their own arrays\n",
    "def teamsplitter(l, n):\n",
    "    # For item i in a range that is a length of l,\n",
    "    for i in range(0, len(l), n):\n",
    "        # Create an index range for l of n items:\n",
    "        yield l[i:i+n]"
   ]
  },
  {
   "cell_type": "code",
   "execution_count": 168,
   "metadata": {},
   "outputs": [
    {
     "data": {
      "text/html": [
       "<div>\n",
       "<style scoped>\n",
       "    .dataframe tbody tr th:only-of-type {\n",
       "        vertical-align: middle;\n",
       "    }\n",
       "\n",
       "    .dataframe tbody tr th {\n",
       "        vertical-align: top;\n",
       "    }\n",
       "\n",
       "    .dataframe thead th {\n",
       "        text-align: right;\n",
       "    }\n",
       "</style>\n",
       "<table border=\"1\" class=\"dataframe\">\n",
       "  <thead>\n",
       "    <tr style=\"text-align: right;\">\n",
       "      <th></th>\n",
       "      <th>0</th>\n",
       "      <th>1</th>\n",
       "      <th>2</th>\n",
       "      <th>3</th>\n",
       "      <th>4</th>\n",
       "      <th>5</th>\n",
       "      <th>6</th>\n",
       "      <th>7</th>\n",
       "      <th>8</th>\n",
       "      <th>9</th>\n",
       "      <th>...</th>\n",
       "      <th>11</th>\n",
       "      <th>12</th>\n",
       "      <th>13</th>\n",
       "      <th>14</th>\n",
       "      <th>15</th>\n",
       "      <th>16</th>\n",
       "      <th>17</th>\n",
       "      <th>18</th>\n",
       "      <th>19</th>\n",
       "      <th>20</th>\n",
       "    </tr>\n",
       "  </thead>\n",
       "  <tbody>\n",
       "    <tr>\n",
       "      <th>0</th>\n",
       "      <td>Tampa Bay Lightning</td>\n",
       "      <td>62-16-4</td>\n",
       "      <td>6-1</td>\n",
       "      <td>7-3</td>\n",
       "      <td>32-7-2</td>\n",
       "      <td>30-9-2</td>\n",
       "      <td>44-8-0</td>\n",
       "      <td>18-8-4</td>\n",
       "      <td>23-5-0</td>\n",
       "      <td>21-3-0</td>\n",
       "      <td>...</td>\n",
       "      <td>11-4-1</td>\n",
       "      <td>24-3-4</td>\n",
       "      <td>30-8-0</td>\n",
       "      <td>8-2-1</td>\n",
       "      <td>10-5-0</td>\n",
       "      <td>13-0-1</td>\n",
       "      <td>6-4-0</td>\n",
       "      <td>12-1-2</td>\n",
       "      <td>10-3-0</td>\n",
       "      <td>3-1-0</td>\n",
       "    </tr>\n",
       "    <tr>\n",
       "      <th>1</th>\n",
       "      <td>Calgary Flames</td>\n",
       "      <td>50-25-7</td>\n",
       "      <td>0-4</td>\n",
       "      <td>5-3</td>\n",
       "      <td>26-10-5</td>\n",
       "      <td>24-15-2</td>\n",
       "      <td>21-7-4</td>\n",
       "      <td>29-18-3</td>\n",
       "      <td>8-5-3</td>\n",
       "      <td>13-2-1</td>\n",
       "      <td>...</td>\n",
       "      <td>16-11-2</td>\n",
       "      <td>16-8-7</td>\n",
       "      <td>22-6-0</td>\n",
       "      <td>7-5-1</td>\n",
       "      <td>8-4-1</td>\n",
       "      <td>9-3-2</td>\n",
       "      <td>9-1-1</td>\n",
       "      <td>8-3-2</td>\n",
       "      <td>8-7-0</td>\n",
       "      <td>1-2-0</td>\n",
       "    </tr>\n",
       "    <tr>\n",
       "      <th>2</th>\n",
       "      <td>Boston Bruins</td>\n",
       "      <td>49-24-9</td>\n",
       "      <td>2-3</td>\n",
       "      <td>9-6</td>\n",
       "      <td>29-9-3</td>\n",
       "      <td>20-15-6</td>\n",
       "      <td>29-19-4</td>\n",
       "      <td>20-5-5</td>\n",
       "      <td>16-10-2</td>\n",
       "      <td>13-9-2</td>\n",
       "      <td>...</td>\n",
       "      <td>12-2-2</td>\n",
       "      <td>21-6-9</td>\n",
       "      <td>23-11-0</td>\n",
       "      <td>7-3-2</td>\n",
       "      <td>7-4-2</td>\n",
       "      <td>7-7-0</td>\n",
       "      <td>6-3-3</td>\n",
       "      <td>11-0-2</td>\n",
       "      <td>9-6-0</td>\n",
       "      <td>2-1-0</td>\n",
       "    </tr>\n",
       "    <tr>\n",
       "      <th>3</th>\n",
       "      <td>Washington Capitals</td>\n",
       "      <td>48-26-8</td>\n",
       "      <td>4-1</td>\n",
       "      <td>5-7</td>\n",
       "      <td>24-11-6</td>\n",
       "      <td>24-15-2</td>\n",
       "      <td>33-14-5</td>\n",
       "      <td>15-12-3</td>\n",
       "      <td>14-7-3</td>\n",
       "      <td>19-7-2</td>\n",
       "      <td>...</td>\n",
       "      <td>10-5-1</td>\n",
       "      <td>19-5-8</td>\n",
       "      <td>16-14-0</td>\n",
       "      <td>5-3-2</td>\n",
       "      <td>10-4-1</td>\n",
       "      <td>9-4-0</td>\n",
       "      <td>3-6-3</td>\n",
       "      <td>9-4-1</td>\n",
       "      <td>11-3-1</td>\n",
       "      <td>1-2-0</td>\n",
       "    </tr>\n",
       "    <tr>\n",
       "      <th>4</th>\n",
       "      <td>New York Islanders</td>\n",
       "      <td>48-27-7</td>\n",
       "      <td>5-5</td>\n",
       "      <td>6-2</td>\n",
       "      <td>24-13-4</td>\n",
       "      <td>24-14-3</td>\n",
       "      <td>30-17-5</td>\n",
       "      <td>18-10-2</td>\n",
       "      <td>12-8-4</td>\n",
       "      <td>18-9-1</td>\n",
       "      <td>...</td>\n",
       "      <td>9-6-1</td>\n",
       "      <td>19-6-7</td>\n",
       "      <td>19-12-0</td>\n",
       "      <td>6-4-1</td>\n",
       "      <td>6-5-2</td>\n",
       "      <td>9-4-1</td>\n",
       "      <td>8-2-1</td>\n",
       "      <td>8-4-2</td>\n",
       "      <td>9-7-0</td>\n",
       "      <td>2-1-0</td>\n",
       "    </tr>\n",
       "  </tbody>\n",
       "</table>\n",
       "<p>5 rows × 21 columns</p>\n",
       "</div>"
      ],
      "text/plain": [
       "                    0        1    2    3        4        5        6        7   \\\n",
       "0  Tampa Bay Lightning  62-16-4  6-1  7-3   32-7-2   30-9-2   44-8-0   18-8-4   \n",
       "1       Calgary Flames  50-25-7  0-4  5-3  26-10-5  24-15-2   21-7-4  29-18-3   \n",
       "2        Boston Bruins  49-24-9  2-3  9-6   29-9-3  20-15-6  29-19-4   20-5-5   \n",
       "3  Washington Capitals  48-26-8  4-1  5-7  24-11-6  24-15-2  33-14-5  15-12-3   \n",
       "4   New York Islanders  48-27-7  5-5  6-2  24-13-4  24-14-3  30-17-5  18-10-2   \n",
       "\n",
       "        8       9   ...       11      12       13     14      15      16  \\\n",
       "0   23-5-0  21-3-0  ...   11-4-1  24-3-4   30-8-0  8-2-1  10-5-0  13-0-1   \n",
       "1    8-5-3  13-2-1  ...  16-11-2  16-8-7   22-6-0  7-5-1   8-4-1   9-3-2   \n",
       "2  16-10-2  13-9-2  ...   12-2-2  21-6-9  23-11-0  7-3-2   7-4-2   7-7-0   \n",
       "3   14-7-3  19-7-2  ...   10-5-1  19-5-8  16-14-0  5-3-2  10-4-1   9-4-0   \n",
       "4   12-8-4  18-9-1  ...    9-6-1  19-6-7  19-12-0  6-4-1   6-5-2   9-4-1   \n",
       "\n",
       "      17      18      19     20  \n",
       "0  6-4-0  12-1-2  10-3-0  3-1-0  \n",
       "1  9-1-1   8-3-2   8-7-0  1-2-0  \n",
       "2  6-3-3  11-0-2   9-6-0  2-1-0  \n",
       "3  3-6-3   9-4-1  11-3-1  1-2-0  \n",
       "4  8-2-1   8-4-2   9-7-0  2-1-0  \n",
       "\n",
       "[5 rows x 21 columns]"
      ]
     },
     "execution_count": 168,
     "metadata": {},
     "output_type": "execute_result"
    }
   ],
   "source": [
    "#21 columns in chart\n",
    "all_teams = list(teamsplitter(all_teams,21))\n",
    "#Data->numpy\n",
    "all_teams = np.array(all_teams)\n",
    "#numpy-> Pandas DataFrame\n",
    "teamtable = pd.DataFrame(all_teams)\n",
    "teamtable.head()\n"
   ]
  },
  {
   "cell_type": "code",
   "execution_count": 169,
   "metadata": {},
   "outputs": [
    {
     "data": {
      "text/html": [
       "<div>\n",
       "<style scoped>\n",
       "    .dataframe tbody tr th:only-of-type {\n",
       "        vertical-align: middle;\n",
       "    }\n",
       "\n",
       "    .dataframe tbody tr th {\n",
       "        vertical-align: top;\n",
       "    }\n",
       "\n",
       "    .dataframe thead th {\n",
       "        text-align: right;\n",
       "    }\n",
       "</style>\n",
       "<table border=\"1\" class=\"dataframe\">\n",
       "  <thead>\n",
       "    <tr style=\"text-align: right;\">\n",
       "      <th></th>\n",
       "      <th>team</th>\n",
       "      <th>Overall</th>\n",
       "      <th>Shootout</th>\n",
       "      <th>Overtime</th>\n",
       "    </tr>\n",
       "  </thead>\n",
       "  <tbody>\n",
       "    <tr>\n",
       "      <th>0</th>\n",
       "      <td>Tampa Bay Lightning</td>\n",
       "      <td>62-16-4</td>\n",
       "      <td>6-1</td>\n",
       "      <td>7-3</td>\n",
       "    </tr>\n",
       "    <tr>\n",
       "      <th>1</th>\n",
       "      <td>Calgary Flames</td>\n",
       "      <td>50-25-7</td>\n",
       "      <td>0-4</td>\n",
       "      <td>5-3</td>\n",
       "    </tr>\n",
       "    <tr>\n",
       "      <th>2</th>\n",
       "      <td>Boston Bruins</td>\n",
       "      <td>49-24-9</td>\n",
       "      <td>2-3</td>\n",
       "      <td>9-6</td>\n",
       "    </tr>\n",
       "    <tr>\n",
       "      <th>3</th>\n",
       "      <td>Washington Capitals</td>\n",
       "      <td>48-26-8</td>\n",
       "      <td>4-1</td>\n",
       "      <td>5-7</td>\n",
       "    </tr>\n",
       "    <tr>\n",
       "      <th>4</th>\n",
       "      <td>New York Islanders</td>\n",
       "      <td>48-27-7</td>\n",
       "      <td>5-5</td>\n",
       "      <td>6-2</td>\n",
       "    </tr>\n",
       "  </tbody>\n",
       "</table>\n",
       "</div>"
      ],
      "text/plain": [
       "                  team  Overall Shootout Overtime\n",
       "0  Tampa Bay Lightning  62-16-4      6-1      7-3\n",
       "1       Calgary Flames  50-25-7      0-4      5-3\n",
       "2        Boston Bruins  49-24-9      2-3      9-6\n",
       "3  Washington Capitals  48-26-8      4-1      5-7\n",
       "4   New York Islanders  48-27-7      5-5      6-2"
      ]
     },
     "execution_count": 169,
     "metadata": {},
     "output_type": "execute_result"
    }
   ],
   "source": [
    "#clean data & rename headers\n",
    "teamtable = teamtable.drop([4,5,6,7,8,9,10,11,12,13,14,15,16,17,18,19,20],axis=1)\n",
    "teamtable = teamtable.rename(columns={0:\"team\",1:\"Overall\",2:\"Shootout\",3:\"Overtime\"})\n",
    "\n",
    "teamtable.head()"
   ]
  },
  {
   "cell_type": "code",
   "execution_count": 9,
   "metadata": {},
   "outputs": [
    {
     "ename": "NameError",
     "evalue": "name 'teamtable' is not defined",
     "output_type": "error",
     "traceback": [
      "\u001b[0;31m---------------------------------------------------------------------------\u001b[0m",
      "\u001b[0;31mNameError\u001b[0m                                 Traceback (most recent call last)",
      "Cell \u001b[0;32mIn[9], line 3\u001b[0m\n\u001b[1;32m      1\u001b[0m \u001b[39m# Striping out the strings of the records\u001b[39;00m\n\u001b[0;32m----> 3\u001b[0m teamname \u001b[39m=\u001b[39m teamtable\u001b[39m.\u001b[39mdrop([\u001b[39m\"\u001b[39m\u001b[39mOverall\u001b[39m\u001b[39m\"\u001b[39m,\u001b[39m\"\u001b[39m\u001b[39mShootout\u001b[39m\u001b[39m\"\u001b[39m,\u001b[39m\"\u001b[39m\u001b[39mOvertime\u001b[39m\u001b[39m\"\u001b[39m],axis\u001b[39m=\u001b[39m\u001b[39m1\u001b[39m)\n\u001b[1;32m      4\u001b[0m Overall_math \u001b[39m=\u001b[39m teamtable\u001b[39m.\u001b[39mOverall\u001b[39m.\u001b[39mstr\u001b[39m.\u001b[39msplit(\u001b[39m\"\u001b[39m\u001b[39m-\u001b[39m\u001b[39m\"\u001b[39m,expand\u001b[39m=\u001b[39m\u001b[39mTrue\u001b[39;00m)\u001b[39m.\u001b[39mrename(columns\u001b[39m=\u001b[39m{\u001b[39m0\u001b[39m:\u001b[39m\"\u001b[39m\u001b[39mwins\u001b[39m\u001b[39m\"\u001b[39m,\u001b[39m1\u001b[39m:\u001b[39m\"\u001b[39m\u001b[39mloss\u001b[39m\u001b[39m\"\u001b[39m,\u001b[39m2\u001b[39m:\u001b[39m\"\u001b[39m\u001b[39mOT_L\u001b[39m\u001b[39m\"\u001b[39m})\u001b[39m.\u001b[39mastype(\u001b[39mint\u001b[39m)\n\u001b[1;32m      5\u001b[0m Shootout_math \u001b[39m=\u001b[39m teamtable\u001b[39m.\u001b[39mShootout\u001b[39m.\u001b[39mstr\u001b[39m.\u001b[39msplit(\u001b[39m\"\u001b[39m\u001b[39m-\u001b[39m\u001b[39m\"\u001b[39m,expand\u001b[39m=\u001b[39m\u001b[39mTrue\u001b[39;00m)\u001b[39m.\u001b[39mdrop([\u001b[39m1\u001b[39m],axis\u001b[39m=\u001b[39m\u001b[39m1\u001b[39m)\u001b[39m.\u001b[39mrename(columns\u001b[39m=\u001b[39m{\u001b[39m0\u001b[39m:\u001b[39m\"\u001b[39m\u001b[39mSOWins\u001b[39m\u001b[39m\"\u001b[39m})\u001b[39m.\u001b[39mastype(\u001b[39mint\u001b[39m)\n",
      "\u001b[0;31mNameError\u001b[0m: name 'teamtable' is not defined"
     ]
    }
   ],
   "source": [
    "# Striping out the strings of the records\n",
    "\n",
    "teamname = teamtable.drop([\"Overall\",\"Shootout\",\"Overtime\"],axis=1)\n",
    "Overall_math = teamtable.Overall.str.split(\"-\",expand=True).rename(columns={0:\"wins\",1:\"loss\",2:\"OT_L\"}).astype(int)\n",
    "Shootout_math = teamtable.Shootout.str.split(\"-\",expand=True).drop([1],axis=1).rename(columns={0:\"SOWins\"}).astype(int)\n",
    "Overtime_math = teamtable.Overtime.str.split(\"-\",expand=True).drop([1],axis=1).rename(columns={0:\"OTWins\"}).astype(int)"
   ]
  },
  {
   "cell_type": "code",
   "execution_count": 10,
   "metadata": {},
   "outputs": [
    {
     "ename": "NameError",
     "evalue": "name 'teamname' is not defined",
     "output_type": "error",
     "traceback": [
      "\u001b[0;31m---------------------------------------------------------------------------\u001b[0m",
      "\u001b[0;31mNameError\u001b[0m                                 Traceback (most recent call last)",
      "Cell \u001b[0;32mIn[10], line 2\u001b[0m\n\u001b[1;32m      1\u001b[0m \u001b[39m#Join math tables\u001b[39;00m\n\u001b[0;32m----> 2\u001b[0m pts_math \u001b[39m=\u001b[39m teamname\u001b[39m.\u001b[39mjoin(Overall_math)\n\u001b[1;32m      3\u001b[0m pts_math \u001b[39m=\u001b[39m pts_math\u001b[39m.\u001b[39mjoin(Shootout_math)\n\u001b[1;32m      4\u001b[0m pts_math \u001b[39m=\u001b[39m pts_math\u001b[39m.\u001b[39mjoin(Overtime_math)\n",
      "\u001b[0;31mNameError\u001b[0m: name 'teamname' is not defined"
     ]
    }
   ],
   "source": [
    "#Join math tables\n",
    "pts_math = teamname.join(Overall_math)\n",
    "pts_math = pts_math.join(Shootout_math)\n",
    "pts_math = pts_math.join(Overtime_math)\n",
    "\n",
    "pts_math.head()"
   ]
  },
  {
   "cell_type": "code",
   "execution_count": 11,
   "metadata": {},
   "outputs": [
    {
     "ename": "NameError",
     "evalue": "name 'pts_math' is not defined",
     "output_type": "error",
     "traceback": [
      "\u001b[0;31m---------------------------------------------------------------------------\u001b[0m",
      "\u001b[0;31mNameError\u001b[0m                                 Traceback (most recent call last)",
      "Cell \u001b[0;32mIn[11], line 2\u001b[0m\n\u001b[1;32m      1\u001b[0m \u001b[39m# Math to get all the pts totals...(Keeping to show the work)\u001b[39;00m\n\u001b[0;32m----> 2\u001b[0m pts_math[\u001b[39m'\u001b[39m\u001b[39mOT_W\u001b[39m\u001b[39m'\u001b[39m] \u001b[39m=\u001b[39m pts_math\u001b[39m.\u001b[39mSOWins \u001b[39m+\u001b[39m pts_math\u001b[39m.\u001b[39mOTWins\n\u001b[1;32m      3\u001b[0m pts_math[\u001b[39m'\u001b[39m\u001b[39mtrue_Wins\u001b[39m\u001b[39m'\u001b[39m] \u001b[39m=\u001b[39m pts_math\u001b[39m.\u001b[39mwins \u001b[39m-\u001b[39m pts_math\u001b[39m.\u001b[39mOT_W\n\u001b[1;32m      4\u001b[0m pts_math[\u001b[39m'\u001b[39m\u001b[39mTrue_Wins_Pts\u001b[39m\u001b[39m'\u001b[39m] \u001b[39m=\u001b[39m pts_math\u001b[39m.\u001b[39mtrue_Wins\u001b[39m*\u001b[39m\u001b[39m3\u001b[39m\n",
      "\u001b[0;31mNameError\u001b[0m: name 'pts_math' is not defined"
     ]
    }
   ],
   "source": [
    "# Math to get all the pts totals...(Keeping to show the work)\n",
    "pts_math['OT_W'] = pts_math.SOWins + pts_math.OTWins\n",
    "pts_math['true_Wins'] = pts_math.wins - pts_math.OT_W\n",
    "pts_math['True_Wins_Pts'] = pts_math.true_Wins*3\n",
    "pts_math['OT_W_Pts'] = pts_math.OT_W*2\n",
    "pts_math['OT_L_Pts'] = pts_math.OT_L*1\n",
    "\n",
    "pts_math.head()"
   ]
  },
  {
   "cell_type": "code",
   "execution_count": 12,
   "metadata": {},
   "outputs": [
    {
     "ename": "NameError",
     "evalue": "name 'pts_math' is not defined",
     "output_type": "error",
     "traceback": [
      "\u001b[0;31m---------------------------------------------------------------------------\u001b[0m",
      "\u001b[0;31mNameError\u001b[0m                                 Traceback (most recent call last)",
      "Cell \u001b[0;32mIn[12], line 2\u001b[0m\n\u001b[1;32m      1\u001b[0m \u001b[39m# THE NEW TOTAL POINTS!!\u001b[39;00m\n\u001b[0;32m----> 2\u001b[0m pts_math[\u001b[39m'\u001b[39m\u001b[39mnew_Record\u001b[39m\u001b[39m'\u001b[39m]\u001b[39m=\u001b[39m pts_math\u001b[39m.\u001b[39mtrue_Wins\u001b[39m.\u001b[39mastype(\u001b[39mstr\u001b[39m)\u001b[39m.\u001b[39mstr\u001b[39m.\u001b[39mcat([pts_math\u001b[39m.\u001b[39mOT_W\u001b[39m.\u001b[39mastype(\u001b[39mstr\u001b[39m),pts_math\u001b[39m.\u001b[39mOT_L\u001b[39m.\u001b[39mastype(\u001b[39mstr\u001b[39m),Overall_math\u001b[39m.\u001b[39mloss\u001b[39m.\u001b[39mastype(\u001b[39mstr\u001b[39m)],sep\u001b[39m=\u001b[39m\u001b[39m'\u001b[39m\u001b[39m-\u001b[39m\u001b[39m'\u001b[39m)\n\u001b[1;32m      3\u001b[0m pts_math[\u001b[39m'\u001b[39m\u001b[39mPTS_Total\u001b[39m\u001b[39m'\u001b[39m]\u001b[39m=\u001b[39m pts_math\u001b[39m.\u001b[39mTrue_Wins_Pts\u001b[39m+\u001b[39mpts_math\u001b[39m.\u001b[39mOT_W_Pts\u001b[39m+\u001b[39mpts_math\u001b[39m.\u001b[39mOT_L_Pts\n\u001b[1;32m      5\u001b[0m pts_math[\u001b[39m'\u001b[39m\u001b[39mcurrent_Points\u001b[39m\u001b[39m'\u001b[39m]\u001b[39m=\u001b[39m(pts_math\u001b[39m.\u001b[39mwins\u001b[39m*\u001b[39m\u001b[39m2\u001b[39m)\u001b[39m+\u001b[39m(pts_math\u001b[39m.\u001b[39mOT_L)\n",
      "\u001b[0;31mNameError\u001b[0m: name 'pts_math' is not defined"
     ]
    }
   ],
   "source": [
    "# THE NEW TOTAL POINTS!!\n",
    "pts_math['new_Record']= pts_math.true_Wins.astype(str).str.cat([pts_math.OT_W.astype(str),pts_math.OT_L.astype(str),Overall_math.loss.astype(str)],sep='-')\n",
    "pts_math['PTS_Total']= pts_math.True_Wins_Pts+pts_math.OT_W_Pts+pts_math.OT_L_Pts\n",
    "\n",
    "pts_math['current_Points']=(pts_math.wins*2)+(pts_math.OT_L)\n",
    "\n",
    "pts_math['current_Rank'] = pts_math['current_Points'].rank(ascending=False)\n",
    "pts_math['new_Rank'] = pts_math['PTS_Total'].rank(ascending=False)\n",
    "\n",
    "\n",
    "pts_math.head()"
   ]
  },
  {
   "cell_type": "code",
   "execution_count": 13,
   "metadata": {},
   "outputs": [
    {
     "ename": "NameError",
     "evalue": "name 'pts_math' is not defined",
     "output_type": "error",
     "traceback": [
      "\u001b[0;31m---------------------------------------------------------------------------\u001b[0m",
      "\u001b[0;31mNameError\u001b[0m                                 Traceback (most recent call last)",
      "Cell \u001b[0;32mIn[13], line 2\u001b[0m\n\u001b[1;32m      1\u001b[0m \u001b[39m# clean for export\u001b[39;00m\n\u001b[0;32m----> 2\u001b[0m pts_math \u001b[39m=\u001b[39m pts_math\u001b[39m.\u001b[39mdrop([\u001b[39m'\u001b[39m\u001b[39mwins\u001b[39m\u001b[39m'\u001b[39m,\u001b[39m'\u001b[39m\u001b[39mloss\u001b[39m\u001b[39m'\u001b[39m,\u001b[39m'\u001b[39m\u001b[39mOT_L\u001b[39m\u001b[39m'\u001b[39m,\u001b[39m'\u001b[39m\u001b[39mSOWins\u001b[39m\u001b[39m'\u001b[39m,\u001b[39m'\u001b[39m\u001b[39mOT_W\u001b[39m\u001b[39m'\u001b[39m,\u001b[39m'\u001b[39m\u001b[39mOTWins\u001b[39m\u001b[39m'\u001b[39m,\u001b[39m'\u001b[39m\u001b[39mtrue_Wins\u001b[39m\u001b[39m'\u001b[39m,\u001b[39m'\u001b[39m\u001b[39mOT_W\u001b[39m\u001b[39m'\u001b[39m, \u001b[39m'\u001b[39m\u001b[39mTrue_Wins_Pts\u001b[39m\u001b[39m'\u001b[39m, \u001b[39m'\u001b[39m\u001b[39mOT_W_Pts\u001b[39m\u001b[39m'\u001b[39m, \u001b[39m'\u001b[39m\u001b[39mOT_L_Pts\u001b[39m\u001b[39m'\u001b[39m], axis\u001b[39m=\u001b[39m\u001b[39m1\u001b[39m)\n\u001b[1;32m      3\u001b[0m pts_math \u001b[39m=\u001b[39m pts_math\u001b[39m.\u001b[39mrename(columns\u001b[39m=\u001b[39m{\u001b[39m\"\u001b[39m\u001b[39mPTS_Total\u001b[39m\u001b[39m\"\u001b[39m:\u001b[39m\"\u001b[39m\u001b[39m3-2-1 Points\u001b[39m\u001b[39m\"\u001b[39m,\u001b[39m\"\u001b[39m\u001b[39mteam\u001b[39m\u001b[39m\"\u001b[39m:\u001b[39m\"\u001b[39m\u001b[39mTeams\u001b[39m\u001b[39m\"\u001b[39m,\u001b[39m\"\u001b[39m\u001b[39mnew_Record\u001b[39m\u001b[39m\"\u001b[39m:\u001b[39m\"\u001b[39m\u001b[39mRecord\u001b[39m\u001b[39m\"\u001b[39m,\u001b[39m\"\u001b[39m\u001b[39mpoints\u001b[39m\u001b[39m\"\u001b[39m:\u001b[39m\"\u001b[39m\u001b[39m3-2-1 Points\u001b[39m\u001b[39m\"\u001b[39m,\u001b[39m\"\u001b[39m\u001b[39mcurrent_Points\u001b[39m\u001b[39m\"\u001b[39m:\u001b[39m\"\u001b[39m\u001b[39mCurrent Points\u001b[39m\u001b[39m\"\u001b[39m,\u001b[39m\"\u001b[39m\u001b[39mcurrent_Rank\u001b[39m\u001b[39m\"\u001b[39m:\u001b[39m\"\u001b[39m\u001b[39mCurrent Rank\u001b[39m\u001b[39m\"\u001b[39m,\u001b[39m\"\u001b[39m\u001b[39mcurrent_Points\u001b[39m\u001b[39m\"\u001b[39m:\u001b[39m\"\u001b[39m\u001b[39mCurrent Points\u001b[39m\u001b[39m\"\u001b[39m,\u001b[39m\"\u001b[39m\u001b[39mnew_Rank\u001b[39m\u001b[39m\"\u001b[39m:\u001b[39m\"\u001b[39m\u001b[39m3-2-1 Rank\u001b[39m\u001b[39m\"\u001b[39m})\n\u001b[1;32m      5\u001b[0m pts_math \u001b[39m=\u001b[39m pts_math\u001b[39m.\u001b[39msort_values(by\u001b[39m=\u001b[39m[\u001b[39m\"\u001b[39m\u001b[39m3-2-1 Points\u001b[39m\u001b[39m\"\u001b[39m],ascending\u001b[39m=\u001b[39m\u001b[39mFalse\u001b[39;00m)\n",
      "\u001b[0;31mNameError\u001b[0m: name 'pts_math' is not defined"
     ]
    }
   ],
   "source": [
    "# clean for export\n",
    "pts_math = pts_math.drop(['wins','loss','OT_L','SOWins','OT_W','OTWins','true_Wins','OT_W', 'True_Wins_Pts', 'OT_W_Pts', 'OT_L_Pts'], axis=1)\n",
    "pts_math = pts_math.rename(columns={\"PTS_Total\":\"3-2-1 Points\",\"team\":\"Teams\",\"new_Record\":\"Record\",\"points\":\"3-2-1 Points\",\"current_Points\":\"Current Points\",\"current_Rank\":\"Current Rank\",\"current_Points\":\"Current Points\",\"new_Rank\":\"3-2-1 Rank\"})\n",
    "\n",
    "pts_math = pts_math.sort_values(by=[\"3-2-1 Points\"],ascending=False)\n",
    "\n",
    "pts_math.head()"
   ]
  },
  {
   "cell_type": "code",
   "execution_count": 14,
   "metadata": {},
   "outputs": [],
   "source": [
    "team_props = pd.read_json('teams.json',typ='frame')"
   ]
  },
  {
   "cell_type": "code",
   "execution_count": 15,
   "metadata": {},
   "outputs": [
    {
     "ename": "NameError",
     "evalue": "name 'pts_math' is not defined",
     "output_type": "error",
     "traceback": [
      "\u001b[0;31m---------------------------------------------------------------------------\u001b[0m",
      "\u001b[0;31mNameError\u001b[0m                                 Traceback (most recent call last)",
      "Cell \u001b[0;32mIn[15], line 1\u001b[0m\n\u001b[0;32m----> 1\u001b[0m finish_table \u001b[39m=\u001b[39m pts_math\u001b[39m.\u001b[39mjoin(team_props,on\u001b[39m=\u001b[39m\u001b[39m'\u001b[39m\u001b[39mTeams\u001b[39m\u001b[39m'\u001b[39m)\n\u001b[1;32m      2\u001b[0m finish_table \u001b[39m=\u001b[39m finish_table\u001b[39m.\u001b[39mset_index(\u001b[39m'\u001b[39m\u001b[39mabb\u001b[39m\u001b[39m'\u001b[39m)\n",
      "\u001b[0;31mNameError\u001b[0m: name 'pts_math' is not defined"
     ]
    }
   ],
   "source": [
    "finish_table = pts_math.join(team_props,on='Teams')\n",
    "finish_table = finish_table.set_index('abb')"
   ]
  },
  {
   "cell_type": "code",
   "execution_count": 16,
   "metadata": {},
   "outputs": [
    {
     "ename": "NameError",
     "evalue": "name 'finish_table' is not defined",
     "output_type": "error",
     "traceback": [
      "\u001b[0;31m---------------------------------------------------------------------------\u001b[0m",
      "\u001b[0;31mNameError\u001b[0m                                 Traceback (most recent call last)",
      "Cell \u001b[0;32mIn[16], line 1\u001b[0m\n\u001b[0;32m----> 1\u001b[0m finish_table\n",
      "\u001b[0;31mNameError\u001b[0m: name 'finish_table' is not defined"
     ]
    }
   ],
   "source": [
    "finish_table"
   ]
  },
  {
   "cell_type": "code",
   "execution_count": null,
   "metadata": {},
   "outputs": [],
   "source": []
  },
  {
   "cell_type": "code",
   "execution_count": null,
   "metadata": {},
   "outputs": [],
   "source": []
  },
  {
   "cell_type": "code",
   "execution_count": null,
   "metadata": {},
   "outputs": [],
   "source": []
  }
 ],
 "metadata": {
  "kernelspec": {
   "display_name": "Python 3",
   "language": "python",
   "name": "python3"
  },
  "language_info": {
   "codemirror_mode": {
    "name": "ipython",
    "version": 3
   },
   "file_extension": ".py",
   "mimetype": "text/x-python",
   "name": "python",
   "nbconvert_exporter": "python",
   "pygments_lexer": "ipython3",
   "version": "3.10.8"
  }
 },
 "nbformat": 4,
 "nbformat_minor": 2
}
